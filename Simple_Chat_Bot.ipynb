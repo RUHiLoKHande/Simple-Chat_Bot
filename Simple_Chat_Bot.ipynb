{
  "nbformat": 4,
  "nbformat_minor": 0,
  "metadata": {
    "colab": {
      "provenance": [],
      "authorship_tag": "ABX9TyPKLM5C/DdjxR4O1141KUw8",
      "include_colab_link": true
    },
    "kernelspec": {
      "name": "python3",
      "display_name": "Python 3"
    },
    "language_info": {
      "name": "python"
    }
  },
  "cells": [
    {
      "cell_type": "markdown",
      "metadata": {
        "id": "view-in-github",
        "colab_type": "text"
      },
      "source": [
        "<a href=\"https://colab.research.google.com/github/RUHiLoKHande/Simple-Chat_Bot/blob/main/Simple_Chat_Bot.ipynb\" target=\"_parent\"><img src=\"https://colab.research.google.com/assets/colab-badge.svg\" alt=\"Open In Colab\"/></a>"
      ]
    },
    {
      "cell_type": "code",
      "execution_count": null,
      "metadata": {
        "id": "WPp81TOR8gCe"
      },
      "outputs": [],
      "source": [
        "import re\n",
        "\n",
        "responses={\n",
        "    \"hello\": \"Hi there! How can I assist you today?\",\n",
        "  \"hi\": \"Hello! How can I help you?\",\n",
        "  \"how are you\": \"I'm just a bot, but I'm doing great! How about you?\",\n",
        "  \"what is your name\": \"I'm a chatbot created to assist you.\",\n",
        "  \"help\": \"Sure, I'm here to help. What do you need assistance with?\",\n",
        "  \"bye\": \"Goodbye! Have a great day!\",\n",
        "  \"thank you\": \"You're welcome! I'm happy to help.\",\n",
        "  \"default\": \"I'm not sure I understand. Could you please rephrase?\"\n",
        "}\n",
        "\n",
        "def chatbot_response(user_input):\n",
        "    user_input=user_input.lower()\n",
        "\n",
        "    for keyword in responses:\n",
        "        if re.search(keyword,user_input):\n",
        "            return responses[keyword]\n",
        "\n",
        "    return responses['default']\n",
        "\n",
        "def chatbot():\n",
        "    print(\"ChatBot : Hello! How Can I Help You. To exit type 'bye'\")\n",
        "\n",
        "    while True:\n",
        "        user_input=input(\"You : \")\n",
        "\n",
        "        if user_input=='Bye':\n",
        "            print(\"ChatBot : Thank You\")\n",
        "            break\n",
        "        response=chatbot_response(user_input)\n",
        "        print(f\"Chatbot : {response}\")\n",
        "\n",
        "chatbot()"
      ]
    }
  ]
}